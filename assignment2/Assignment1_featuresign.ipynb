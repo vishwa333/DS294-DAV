{
 "cells": [
  {
   "cell_type": "code",
   "execution_count": 4,
   "metadata": {},
   "outputs": [],
   "source": [
    "import numpy as np"
   ]
  },
  {
   "cell_type": "code",
   "execution_count": 23,
   "metadata": {},
   "outputs": [],
   "source": [
    "def my_feature_sign(A, y, threshold):\n",
    "    i = 1\n",
    "    j = 0\n",
    "    tmp = np.dot(A.T, A)\n",
    "    theta = np.zeros(tmp.shape[0], dtype=np.int8)\n",
    "    x = np.zeros(tmp.shape[0])\n",
    "    ATy = np.dot(A.T, y)\n",
    "    grad = -2 * ATy\n",
    "    now_active = set()\n",
    "    y2 = np.dot(y.T, y)\n",
    "    \n",
    "    \n",
    "    while i+j:\n",
    "        if j<1:\n",
    "            tmpx = np.argmax(np.abs(grad)*(theta==0))\n",
    "            if grad[tmpx] > threshold:\n",
    "                theta[tmpx] = -1\n",
    "                now_active.add(tmpx)\n",
    "            elif grad[tmpx] < -threshold:\n",
    "                theta[tmpx] = 1\n",
    "                now_active.add(tmpx)\n",
    "            \n",
    "        index = np.array(sorted(now_active))\n",
    "        tmp_H = tmp[np.ix_(index, index)]\n",
    "        tmp_Ay = ATy[index]\n",
    "        thetaHat = theta[index]\n",
    "        b = tmp_Ay-(threshold*thetaHat)/2\n",
    "        x_H = np.linalg.solve(np.atleast_2d(tmp_H), b)\n",
    "        thetaNew = np.sign(x_H)\n",
    "        oldx = x[index]\n",
    "        changed = np.where(abs(thetaNew - thetaHat) > 1)[0]\n",
    "        if len(changed) > 0:\n",
    "            xb = x_H\n",
    "            Ax2 = np.dot(x_H, np.dot(tmp_Ay,x_H))\n",
    "            ab = np.dot(x_H, tmp_Ay)\n",
    "            obj = (y2 + Ax2- 2 * ab + threshold*abs(x_H).sum())\n",
    "            for elem in changed:\n",
    "                x = x_H[elem]\n",
    "                y = oldx[elem]\n",
    "                prop = y / (y - x)\n",
    "                now = oldx - prop * (oldx - x_H)\n",
    "                tmp1 = np.dot(now, np.dot(tmp_H, now))\n",
    "                tmp2 = np.dot(now, tmp_Ay)\n",
    "                costnow = y2 + (tmp1-2*tmp2+ threshold*abs(now).sum())\n",
    "                if costnow < obj:\n",
    "                    obj = costnow\n",
    "                    best_prop = prop\n",
    "                    xb = now\n",
    "        else:\n",
    "            xb = x_H\n",
    "        x[index] = xb\n",
    "        index_zeros = index[np.abs(x[index]) < 1e-18]\n",
    "        x[index_zeros] = 0.\n",
    "        theta[index] = np.int8(np.sign(x[index]))\n",
    "        now_active.difference_update(index_zeros)\n",
    "        grad = - 2 * ATy + 2 * np.dot(tmp, x)\n",
    "        tmp_res = np.max(abs(grad[theta == 0]))\n",
    "        #tmp_res=np.inf\n",
    "        ntmp_res = np.max(abs(grad[theta != 0] + threshold * theta[theta != 0]))\n",
    "        \n",
    "        if tmp_res > threshold:\n",
    "            i=1\n",
    "        else:\n",
    "            i=0\n",
    "            \n",
    "        if not np.allclose(ntmp_res,0):\n",
    "            j=1\n",
    "        else:\n",
    "            j=0\n",
    "    return x"
   ]
  },
  {
   "cell_type": "code",
   "execution_count": 26,
   "metadata": {},
   "outputs": [],
   "source": [
    "## How to use ?\n",
    "## Call the function as my_feature_sign(a,y,gamma)\n",
    "## a is matrix, y is a 1-D array and gamma is a scalar value.\n",
    "## it returns the result x which is a 1d array.\n",
    "\n"
   ]
  },
  {
   "cell_type": "code",
   "execution_count": null,
   "metadata": {},
   "outputs": [],
   "source": []
  }
 ],
 "metadata": {
  "kernelspec": {
   "display_name": "Python 2",
   "language": "python",
   "name": "python2"
  },
  "language_info": {
   "codemirror_mode": {
    "name": "ipython",
    "version": 2
   },
   "file_extension": ".py",
   "mimetype": "text/x-python",
   "name": "python",
   "nbconvert_exporter": "python",
   "pygments_lexer": "ipython2",
   "version": "2.7.14"
  }
 },
 "nbformat": 4,
 "nbformat_minor": 2
}
